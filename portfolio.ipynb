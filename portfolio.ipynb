{
 "cells": [
  {
   "cell_type": "markdown",
   "metadata": {},
   "source": [
    "Hi! I'm Robby. A Data Scientist with a keen interest and determination in working with data, I aim to use my skills to help businesses make better decisions. \n",
    "\n",
    "Since I was young, "
   ]
  },
  {
   "cell_type": "markdown",
   "metadata": {},
   "source": [
    "Hi! I'm Robby. A Data Scientist with a keen interest and determination in working with data, I aim to use my skills to help businesses make better decisions. \n",
    "\n",
    "Portfolio\n",
    "\n",
    "Here you'll find a list of projects I've worked on. I've included a brief description of the project, the tools I used, and a link to the code on GitHub."
   ]
  },
  {
   "cell_type": "markdown",
   "metadata": {},
   "source": [
    "SAP Inventory Specialist | Domino’s SCC. \n",
    "\n",
    "NOV 2021 - PRESENT, CAMBRIDGE, ON\n",
    "•\tCollaborated with cross-functional groups to communicate or reinforce specific goals and ensure that the overall strategy for the team was reflected in warehouse management.\n",
    "•\tA part of a team that achieved in implementing SAP, which resulted in a 40% increase in inventory accuracy and a 10% increase in inventory turnover.\n",
    "Data Science Internship (4-Months) | Sonicorn\n",
    "\n",
    "JUN  2022 - 2022, TORONTO, ON\n",
    "•\tProvided support in the development of Agrokarma’s data science platform, which allows farmers to sell their produce directly to consumers, cutting out the middleman. This outcome helped farmers increase their profit margins and reduce food waste.\n",
    "•   Machine learning models were developed to predict the price of a product based on the product’s characteristics. This development allowed farmers to price their products more accurately, which resulted in a increase in sales. \n",
    "\n",
    "Associate Merchant | Loblaw Companies Limited\n",
    " Nov. 2015 - 2017, CAMBRIDGE, ON\n",
    "•\tAccurately entered pricing data in a timely manner, ensuring that products were priced appropriately and set to maximize overall profitability.\n",
    "•\tAnalyzed sales data to identify trends and opportunities for growth, which resulted in increased sales and revenue.\n",
    "\n",
    "Data Analyst | Cyclistic Bike-Share\n",
    "\n",
    "Provided key insights to the marketing team to help them develop a marketing strategy to increase the number of annual memberships. "
   ]
  }
 ],
 "metadata": {
  "kernelspec": {
   "display_name": "Python 3.11.0 64-bit",
   "language": "python",
   "name": "python3"
  },
  "language_info": {
   "name": "python",
   "version": "3.11.0"
  },
  "orig_nbformat": 4,
  "vscode": {
   "interpreter": {
    "hash": "1ed819a7ffdb54fb8d21ab8079b56d9e133e5049ed7423b0660b10e294b2dc4b"
   }
  }
 },
 "nbformat": 4,
 "nbformat_minor": 2
}
